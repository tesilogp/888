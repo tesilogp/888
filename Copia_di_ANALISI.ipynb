{
  "nbformat": 4,
  "nbformat_minor": 0,
  "metadata": {
    "colab": {
      "name": "Copia di ANALISI.ipynb",
      "provenance": [],
      "collapsed_sections": []
    },
    "kernelspec": {
      "name": "python3",
      "display_name": "Python 3"
    },
    "language_info": {
      "name": "python"
    }
  },
  "cells": [
    {
      "cell_type": "code",
      "execution_count": null,
      "metadata": {
        "colab": {
          "resources": {
            "http://localhost:8080/nbextensions/google.colab/files.js": {
              "data": "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",
              "ok": true,
              "headers": [
                [
                  "content-type",
                  "application/javascript"
                ]
              ],
              "status": 200,
              "status_text": ""
            }
          },
          "base_uri": "https://localhost:8080/",
          "height": 73
        },
        "id": "rNP-Z79s9LrQ",
        "outputId": "e0dc7f79-9830-4aba-bb10-ebe0d25ddd2d"
      },
      "outputs": [
        {
          "output_type": "display_data",
          "data": {
            "text/html": [
              "\n",
              "     <input type=\"file\" id=\"files-826cd4dd-6ae9-4bb0-8e9e-32986725be02\" name=\"files[]\" multiple disabled\n",
              "        style=\"border:none\" />\n",
              "     <output id=\"result-826cd4dd-6ae9-4bb0-8e9e-32986725be02\">\n",
              "      Upload widget is only available when the cell has been executed in the\n",
              "      current browser session. Please rerun this cell to enable.\n",
              "      </output>\n",
              "      <script src=\"/nbextensions/google.colab/files.js\"></script> "
            ],
            "text/plain": [
              "<IPython.core.display.HTML object>"
            ]
          },
          "metadata": {}
        },
        {
          "output_type": "stream",
          "name": "stdout",
          "text": [
            "Saving 888 - Foglio1.csv to 888 - Foglio1 (2).csv\n"
          ]
        }
      ],
      "source": [
        "import pandas as pd\n",
        "import numpy as np\n",
        "import io\n",
        "from google.colab import files\n",
        "import matplotlib.pyplot as plt\n",
        "\n",
        "upl = files.upload()"
      ]
    },
    {
      "cell_type": "code",
      "source": [
        "\n",
        "file_rd = pd.read_csv( io.BytesIO( upl['888 - Foglio1.csv'] ) )\n",
        "file_dt = pd.DataFrame( file_rd )\n",
        "file_dt"
      ],
      "metadata": {
        "colab": {
          "base_uri": "https://localhost:8080/",
          "height": 423
        },
        "id": "2RfED9FH9kgj",
        "outputId": "57d4c4a7-9b62-454b-e4f4-3b5fa8fa851d"
      },
      "execution_count": null,
      "outputs": [
        {
          "output_type": "execute_result",
          "data": {
            "text/html": [
              "\n",
              "  <div id=\"df-98600ab2-53d1-4bb4-9c02-d4e5d9a1c13d\">\n",
              "    <div class=\"colab-df-container\">\n",
              "      <div>\n",
              "<style scoped>\n",
              "    .dataframe tbody tr th:only-of-type {\n",
              "        vertical-align: middle;\n",
              "    }\n",
              "\n",
              "    .dataframe tbody tr th {\n",
              "        vertical-align: top;\n",
              "    }\n",
              "\n",
              "    .dataframe thead th {\n",
              "        text-align: right;\n",
              "    }\n",
              "</style>\n",
              "<table border=\"1\" class=\"dataframe\">\n",
              "  <thead>\n",
              "    <tr style=\"text-align: right;\">\n",
              "      <th></th>\n",
              "      <th>GIORNO</th>\n",
              "      <th>TIPO</th>\n",
              "      <th>SCOMMESSA</th>\n",
              "      <th>QUOTA</th>\n",
              "      <th>PROFITTO</th>\n",
              "      <th>VITTORIA</th>\n",
              "      <th>TOTALE</th>\n",
              "      <th>Unnamed: 7</th>\n",
              "      <th>Unnamed: 8</th>\n",
              "    </tr>\n",
              "  </thead>\n",
              "  <tbody>\n",
              "    <tr>\n",
              "      <th>0</th>\n",
              "      <td>9 genn</td>\n",
              "      <td>BASKET_M</td>\n",
              "      <td>€ 10,00</td>\n",
              "      <td>3,9</td>\n",
              "      <td>-€ 10,00</td>\n",
              "      <td>0</td>\n",
              "      <td>-€ 10,00</td>\n",
              "      <td>NaN</td>\n",
              "      <td>NaN</td>\n",
              "    </tr>\n",
              "    <tr>\n",
              "      <th>1</th>\n",
              "      <td>9 genn</td>\n",
              "      <td>BASKET_M</td>\n",
              "      <td>€ 20,00</td>\n",
              "      <td>3,1</td>\n",
              "      <td>€ 42,00</td>\n",
              "      <td>1</td>\n",
              "      <td>€ 32,00</td>\n",
              "      <td>NaN</td>\n",
              "      <td>NaN</td>\n",
              "    </tr>\n",
              "    <tr>\n",
              "      <th>2</th>\n",
              "      <td>9 genn</td>\n",
              "      <td>ATP</td>\n",
              "      <td>€ 10,00</td>\n",
              "      <td>1,16</td>\n",
              "      <td>€ 1,60</td>\n",
              "      <td>1</td>\n",
              "      <td>€ 33,60</td>\n",
              "      <td>NaN</td>\n",
              "      <td>NaN</td>\n",
              "    </tr>\n",
              "    <tr>\n",
              "      <th>3</th>\n",
              "      <td>9 genn</td>\n",
              "      <td>BASKET_M</td>\n",
              "      <td>€ 15,00</td>\n",
              "      <td>2,43</td>\n",
              "      <td>-€ 15,00</td>\n",
              "      <td>0</td>\n",
              "      <td>€ 18,60</td>\n",
              "      <td>SOMMA:</td>\n",
              "      <td>€ 100,10</td>\n",
              "    </tr>\n",
              "    <tr>\n",
              "      <th>4</th>\n",
              "      <td>9 genn</td>\n",
              "      <td>ATP</td>\n",
              "      <td>€ 20,00</td>\n",
              "      <td>1,18</td>\n",
              "      <td>€ 3,60</td>\n",
              "      <td>1</td>\n",
              "      <td>€ 22,20</td>\n",
              "      <td>NaN</td>\n",
              "      <td>NaN</td>\n",
              "    </tr>\n",
              "    <tr>\n",
              "      <th>...</th>\n",
              "      <td>...</td>\n",
              "      <td>...</td>\n",
              "      <td>...</td>\n",
              "      <td>...</td>\n",
              "      <td>...</td>\n",
              "      <td>...</td>\n",
              "      <td>...</td>\n",
              "      <td>...</td>\n",
              "      <td>...</td>\n",
              "    </tr>\n",
              "    <tr>\n",
              "      <th>67</th>\n",
              "      <td>9 genn</td>\n",
              "      <td>BASKET_M</td>\n",
              "      <td>€ 10,00</td>\n",
              "      <td>2,85</td>\n",
              "      <td>-€ 10,00</td>\n",
              "      <td>0</td>\n",
              "      <td>€ 92,60</td>\n",
              "      <td>NaN</td>\n",
              "      <td>NaN</td>\n",
              "    </tr>\n",
              "    <tr>\n",
              "      <th>68</th>\n",
              "      <td>9 genn</td>\n",
              "      <td>ITF_M</td>\n",
              "      <td>€ 10,00</td>\n",
              "      <td>1,2</td>\n",
              "      <td>€ 2,00</td>\n",
              "      <td>1</td>\n",
              "      <td>€ 94,60</td>\n",
              "      <td>NaN</td>\n",
              "      <td>NaN</td>\n",
              "    </tr>\n",
              "    <tr>\n",
              "      <th>69</th>\n",
              "      <td>9 genn</td>\n",
              "      <td>ITF_M</td>\n",
              "      <td>€ 10,00</td>\n",
              "      <td>1,16</td>\n",
              "      <td>€ 1,60</td>\n",
              "      <td>1</td>\n",
              "      <td>€ 96,20</td>\n",
              "      <td>NaN</td>\n",
              "      <td>NaN</td>\n",
              "    </tr>\n",
              "    <tr>\n",
              "      <th>70</th>\n",
              "      <td>9 genn</td>\n",
              "      <td>ITF_M</td>\n",
              "      <td>€ 10,00</td>\n",
              "      <td>1,22</td>\n",
              "      <td>€ 2,20</td>\n",
              "      <td>1</td>\n",
              "      <td>€ 98,40</td>\n",
              "      <td>NaN</td>\n",
              "      <td>NaN</td>\n",
              "    </tr>\n",
              "    <tr>\n",
              "      <th>71</th>\n",
              "      <td>9 genn</td>\n",
              "      <td>ITF_M</td>\n",
              "      <td>€ 10,00</td>\n",
              "      <td>1,17</td>\n",
              "      <td>€ 1,70</td>\n",
              "      <td>1</td>\n",
              "      <td>€ 100,10</td>\n",
              "      <td>NaN</td>\n",
              "      <td>NaN</td>\n",
              "    </tr>\n",
              "  </tbody>\n",
              "</table>\n",
              "<p>72 rows × 9 columns</p>\n",
              "</div>\n",
              "      <button class=\"colab-df-convert\" onclick=\"convertToInteractive('df-98600ab2-53d1-4bb4-9c02-d4e5d9a1c13d')\"\n",
              "              title=\"Convert this dataframe to an interactive table.\"\n",
              "              style=\"display:none;\">\n",
              "        \n",
              "  <svg xmlns=\"http://www.w3.org/2000/svg\" height=\"24px\"viewBox=\"0 0 24 24\"\n",
              "       width=\"24px\">\n",
              "    <path d=\"M0 0h24v24H0V0z\" fill=\"none\"/>\n",
              "    <path d=\"M18.56 5.44l.94 2.06.94-2.06 2.06-.94-2.06-.94-.94-2.06-.94 2.06-2.06.94zm-11 1L8.5 8.5l.94-2.06 2.06-.94-2.06-.94L8.5 2.5l-.94 2.06-2.06.94zm10 10l.94 2.06.94-2.06 2.06-.94-2.06-.94-.94-2.06-.94 2.06-2.06.94z\"/><path d=\"M17.41 7.96l-1.37-1.37c-.4-.4-.92-.59-1.43-.59-.52 0-1.04.2-1.43.59L10.3 9.45l-7.72 7.72c-.78.78-.78 2.05 0 2.83L4 21.41c.39.39.9.59 1.41.59.51 0 1.02-.2 1.41-.59l7.78-7.78 2.81-2.81c.8-.78.8-2.07 0-2.86zM5.41 20L4 18.59l7.72-7.72 1.47 1.35L5.41 20z\"/>\n",
              "  </svg>\n",
              "      </button>\n",
              "      \n",
              "  <style>\n",
              "    .colab-df-container {\n",
              "      display:flex;\n",
              "      flex-wrap:wrap;\n",
              "      gap: 12px;\n",
              "    }\n",
              "\n",
              "    .colab-df-convert {\n",
              "      background-color: #E8F0FE;\n",
              "      border: none;\n",
              "      border-radius: 50%;\n",
              "      cursor: pointer;\n",
              "      display: none;\n",
              "      fill: #1967D2;\n",
              "      height: 32px;\n",
              "      padding: 0 0 0 0;\n",
              "      width: 32px;\n",
              "    }\n",
              "\n",
              "    .colab-df-convert:hover {\n",
              "      background-color: #E2EBFA;\n",
              "      box-shadow: 0px 1px 2px rgba(60, 64, 67, 0.3), 0px 1px 3px 1px rgba(60, 64, 67, 0.15);\n",
              "      fill: #174EA6;\n",
              "    }\n",
              "\n",
              "    [theme=dark] .colab-df-convert {\n",
              "      background-color: #3B4455;\n",
              "      fill: #D2E3FC;\n",
              "    }\n",
              "\n",
              "    [theme=dark] .colab-df-convert:hover {\n",
              "      background-color: #434B5C;\n",
              "      box-shadow: 0px 1px 3px 1px rgba(0, 0, 0, 0.15);\n",
              "      filter: drop-shadow(0px 1px 2px rgba(0, 0, 0, 0.3));\n",
              "      fill: #FFFFFF;\n",
              "    }\n",
              "  </style>\n",
              "\n",
              "      <script>\n",
              "        const buttonEl =\n",
              "          document.querySelector('#df-98600ab2-53d1-4bb4-9c02-d4e5d9a1c13d button.colab-df-convert');\n",
              "        buttonEl.style.display =\n",
              "          google.colab.kernel.accessAllowed ? 'block' : 'none';\n",
              "\n",
              "        async function convertToInteractive(key) {\n",
              "          const element = document.querySelector('#df-98600ab2-53d1-4bb4-9c02-d4e5d9a1c13d');\n",
              "          const dataTable =\n",
              "            await google.colab.kernel.invokeFunction('convertToInteractive',\n",
              "                                                     [key], {});\n",
              "          if (!dataTable) return;\n",
              "\n",
              "          const docLinkHtml = 'Like what you see? Visit the ' +\n",
              "            '<a target=\"_blank\" href=https://colab.research.google.com/notebooks/data_table.ipynb>data table notebook</a>'\n",
              "            + ' to learn more about interactive tables.';\n",
              "          element.innerHTML = '';\n",
              "          dataTable['output_type'] = 'display_data';\n",
              "          await google.colab.output.renderOutput(dataTable, element);\n",
              "          const docLink = document.createElement('div');\n",
              "          docLink.innerHTML = docLinkHtml;\n",
              "          element.appendChild(docLink);\n",
              "        }\n",
              "      </script>\n",
              "    </div>\n",
              "  </div>\n",
              "  "
            ],
            "text/plain": [
              "    GIORNO      TIPO SCOMMESSA QUOTA  ... VITTORIA    TOTALE Unnamed: 7 Unnamed: 8\n",
              "0   9 genn  BASKET_M   € 10,00   3,9  ...        0  -€ 10,00        NaN        NaN\n",
              "1   9 genn  BASKET_M   € 20,00   3,1  ...        1   € 32,00        NaN        NaN\n",
              "2   9 genn       ATP   € 10,00  1,16  ...        1   € 33,60        NaN        NaN\n",
              "3   9 genn  BASKET_M   € 15,00  2,43  ...        0   € 18,60     SOMMA:   € 100,10\n",
              "4   9 genn       ATP   € 20,00  1,18  ...        1   € 22,20        NaN        NaN\n",
              "..     ...       ...       ...   ...  ...      ...       ...        ...        ...\n",
              "67  9 genn  BASKET_M   € 10,00  2,85  ...        0   € 92,60        NaN        NaN\n",
              "68  9 genn     ITF_M   € 10,00   1,2  ...        1   € 94,60        NaN        NaN\n",
              "69  9 genn     ITF_M   € 10,00  1,16  ...        1   € 96,20        NaN        NaN\n",
              "70  9 genn     ITF_M   € 10,00  1,22  ...        1   € 98,40        NaN        NaN\n",
              "71  9 genn     ITF_M   € 10,00  1,17  ...        1  € 100,10        NaN        NaN\n",
              "\n",
              "[72 rows x 9 columns]"
            ]
          },
          "metadata": {},
          "execution_count": 15
        }
      ]
    },
    {
      "cell_type": "code",
      "source": [
        "def ANALISI( label ):\n",
        "    print(\"Running \"+label+\"...\")\n",
        "    file_atp = file_dt.loc[ ( file_dt.TIPO==label ) ]\n",
        "    #file_atp\n",
        "    qt = list( file_atp['QUOTA'] )\n",
        "    scms = list( file_atp['SCOMMESSA'] )\n",
        "\n",
        "    quote = []\n",
        "    for q in qt:\n",
        "      q = q.replace(\",\", \".\")\n",
        "      q = float( q )\n",
        "      quote.append( q )\n",
        "\n",
        "    scommesse = []\n",
        "    for s in scms:\n",
        "      s = s.replace(\",\", \".\")\n",
        "      s = s.replace(\"€\", \"\")\n",
        "      s = s.strip()\n",
        "      s = float( s )\n",
        "      scommesse.append( s )\n",
        "\n",
        "    profitto_atp = list( file_atp.PROFITTO )\n",
        "    profitto_atp_ord = []\n",
        "    segni = []\n",
        "    for idx, v in enumerate ( profitto_atp ):\n",
        "        v = v.replace(\"€\", \"\")\n",
        "        v = v.strip()\n",
        "        v = v.replace(',', '.')\n",
        "        if \"-\" in v:\n",
        "            segni.append( -1 )\n",
        "        else:\n",
        "            segni.append( 1 )\n",
        "        v = v.replace('-','')\n",
        "        v = v.strip()\n",
        "        v = float( v )\n",
        "        profitto_atp_ord.append( v )\n",
        "\n",
        "    print( profitto_atp_ord )\n",
        "    print( segni )\n",
        "\n",
        "    lista_finale_atp = []\n",
        "    for ind, val in enumerate ( profitto_atp_ord ):\n",
        "        prd = val*segni[ind]\n",
        "        lista_finale_atp.append( prd )\n",
        "    numero_scommesse = len( lista_finale_atp )\n",
        "    print( lista_finale_atp )\n",
        "    somma_atp = sum( lista_finale_atp )\n",
        "    somma_atp = round(somma_atp,2) \n",
        "    media_profitto = somma_atp/(numero_scommesse+0.000005)\n",
        "    conto_win = 0\n",
        "    for lfatp in lista_finale_atp:\n",
        "      if lfatp>0:\n",
        "        conto_win = conto_win+1\n",
        "      else:\n",
        "        conto_win = conto_win+0\n",
        "    win_percentage = (conto_win/(numero_scommesse+0.00005) )*100\n",
        "\n",
        "    win_under_1_5 = 0\n",
        "    tot_under_1_5 = 0\n",
        "\n",
        "    win_1_5_2 = 0\n",
        "    tot_1_5_2 = 0\n",
        "\n",
        "    win_over_2 = 0\n",
        "    tot_over_2 = 0\n",
        "    \n",
        "    for idx, sc in enumerate ( lista_finale_atp ):\n",
        "      if quote[idx]<=1.5:\n",
        "        tot_under_1_5 = tot_under_1_5+1\n",
        "        if sc>0:\n",
        "          win_under_1_5 = win_under_1_5+1\n",
        "      elif ( quote[idx]>1.5 )&( quote[idx]<=2 ):\n",
        "        tot_1_5_2 = tot_1_5_2+1\n",
        "        if sc>0:\n",
        "          win_1_5_2 = win_1_5_2+1\n",
        "      else:\n",
        "        tot_over_2 = tot_over_2+1\n",
        "        if sc>0:\n",
        "          win_over_2 = win_over_2+1\n",
        "\n",
        "\n",
        "\n",
        "\n",
        "\n",
        "    print(\"Profitto totale: \", str( somma_atp ) )\n",
        "    print(\"Profitto medio: \", str( media_profitto ),\" su \", str(numero_scommesse),\" scommesse\" )\n",
        "    print(\"Percentuale di vittoria:\", str( win_percentage ) )\n",
        "\n",
        "    print(\"Analisi dettagliata: \\n\")\n",
        "    print(str( win_under_1_5 ), \" scommesse prese su \", str( tot_under_1_5 ), \" con quota inferiore o uguale a 1.5\" )\n",
        "    print(str( win_1_5_2 ), \" scommesse prese su \", str( tot_1_5_2 ), \" con quota tra 1.51 e 2\" )\n",
        "    print(str( win_over_2 ), \" scommesse prese su \", str( tot_over_2 ), \" con quota superiore a 2 \\n\" )\n",
        "    \n",
        "    print(\"Il GRAFICO A DISPERSIONE SOTTOSTANTE serve per valutare la correlazione tra il profitto e la quota.\")\n",
        "    plt.scatter( quote, lista_finale_atp )\n",
        "    plt.xlabel(\"QUOTA\")\n",
        "    plt.ylabel(\"PROFITTO\")\n",
        "    plt.show()\n",
        "\n",
        "    print(\"Il GRAFICO A DISPERSIONE SOTTOSTANTE serve per valutare la correlazione tra il profitto e la puntata.\")\n",
        "    plt.scatter( scommesse, lista_finale_atp )\n",
        "    plt.xlabel(\"PUNTATA\")\n",
        "    plt.ylabel(\"PROFITTO\")\n",
        "    plt.show()\n",
        "\n",
        "\n",
        "    \n",
        "    print(\"- - - - - - - - - - - - - - - - - - - - - - - - - - - - - - - - - - - - - - - - - - - - - - - - - - - - - - - - - - - - - - - - - - \")"
      ],
      "metadata": {
        "id": "HtZim7xi-uJD"
      },
      "execution_count": null,
      "outputs": []
    },
    {
      "cell_type": "code",
      "source": [
        "types_bet = list( file_dt['TIPO'].unique() )\n",
        "\n",
        "for v in types_bet:\n",
        "    if type(v)==float:\n",
        "        types_bet.remove(v)\n",
        "    else:\n",
        "        pass\n",
        "print( types_bet )\n"
      ],
      "metadata": {
        "colab": {
          "base_uri": "https://localhost:8080/"
        },
        "id": "MZ5RDyUo-uLp",
        "outputId": "bc33589c-a67c-4f9a-cfb4-2b59f7c4f559"
      },
      "execution_count": null,
      "outputs": [
        {
          "output_type": "stream",
          "name": "stdout",
          "text": [
            "['BASKET_M', 'ATP', 'ITF_M', 'ITF_F']\n"
          ]
        }
      ]
    },
    {
      "cell_type": "code",
      "source": [
        "for tb in types_bet:\n",
        "    ANALISI(tb)"
      ],
      "metadata": {
        "colab": {
          "base_uri": "https://localhost:8080/",
          "height": 1000
        },
        "id": "C6qYDssj-uOU",
        "outputId": "9ddf08b1-6758-4a63-9416-b1aa150c764e"
      },
      "execution_count": null,
      "outputs": [
        {
          "output_type": "stream",
          "name": "stdout",
          "text": [
            "Running BASKET_M...\n",
            "[10.0, 42.0, 15.0, 6.5, 6.5, 10.0, 10.0, 9.7, 10.0, 6.8, 8.2, 10.0, 9.0, 10.0]\n",
            "[-1, 1, -1, 1, 1, -1, -1, 1, -1, 1, 1, -1, 1, -1]\n",
            "[-10.0, 42.0, -15.0, 6.5, 6.5, -10.0, -10.0, 9.7, -10.0, 6.8, 8.2, -10.0, 9.0, -10.0]\n",
            "Profitto totale:  13.7\n",
            "Profitto medio:  0.9785710790817574  su  14  scommesse\n",
            "Percentuale di vittoria: 49.99982142920918\n",
            "Analisi dettagliata: \n",
            "\n",
            "0  scommesse prese su  1  con quota inferiore o uguale a 1.5\n",
            "6  scommesse prese su  7  con quota tra 1.51 e 2\n",
            "1  scommesse prese su  6  con quota superiore a 2 \n",
            "\n",
            "Il GRAFICO A DISPERSIONE SOTTOSTANTE serve per valutare la correlazione tra il profitto e la quota.\n"
          ]
        },
        {
          "output_type": "display_data",
          "data": {
            "image/png": "[encoded data removed]",
            "text/plain": [
              "<Figure size 432x288 with 1 Axes>"
            ]
          },
          "metadata": {
            "needs_background": "light"
          }
        },
        {
          "output_type": "stream",
          "name": "stdout",
          "text": [
            "Il GRAFICO A DISPERSIONE SOTTOSTANTE serve per valutare la correlazione tra il profitto e la puntata.\n"
          ]
        },
        {
          "output_type": "display_data",
          "data": {
            "image/png": "[encoded data removed]",
            "text/plain": [
              "<Figure size 432x288 with 1 Axes>"
            ]
          },
          "metadata": {
            "needs_background": "light"
          }
        },
        {
          "output_type": "stream",
          "name": "stdout",
          "text": [
            "- - - - - - - - - - - - - - - - - - - - - - - - - - - - - - - - - - - - - - - - - - - - - - - - - - - - - - - - - - - - - - - - - - \n",
            "Running ATP...\n",
            "[1.6, 3.6, 1.9, 11.0, 10.0, 1.2, 1.8, 1.9, 2.1, 1.5, 1.4, 1.4, 1.5, 1.9, 10.0, 2.1, 0.9, 0.9, 0.9, 10.0, 0.4, 1.8]\n",
            "[1, 1, 1, 1, -1, 1, 1, 1, 1, 1, 1, 1, 1, 1, -1, 1, 1, 1, 1, -1, 1, 1]\n",
            "[1.6, 3.6, 1.9, 11.0, -10.0, 1.2, 1.8, 1.9, 2.1, 1.5, 1.4, 1.4, 1.5, 1.9, -10.0, 2.1, 0.9, 0.9, 0.9, -10.0, 0.4, 1.8]\n",
            "Profitto totale:  9.8\n",
            "Profitto medio:  0.44545444421489905  su  22  scommesse\n",
            "Percentuale di vittoria: 86.36344008309071\n",
            "Analisi dettagliata: \n",
            "\n",
            "18  scommesse prese su  20  con quota inferiore o uguale a 1.5\n",
            "0  scommesse prese su  1  con quota tra 1.51 e 2\n",
            "1  scommesse prese su  1  con quota superiore a 2 \n",
            "\n",
            "Il GRAFICO A DISPERSIONE SOTTOSTANTE serve per valutare la correlazione tra il profitto e la quota.\n"
          ]
        },
        {
          "output_type": "display_data",
          "data": {
            "image/png": "[encoded data removed]",
            "text/plain": [
              "<Figure size 432x288 with 1 Axes>"
            ]
          },
          "metadata": {
            "needs_background": "light"
          }
        },
        {
          "output_type": "stream",
          "name": "stdout",
          "text": [
            "Il GRAFICO A DISPERSIONE SOTTOSTANTE serve per valutare la correlazione tra il profitto e la puntata.\n"
          ]
        },
        {
          "output_type": "display_data",
          "data": {
            "image/png": "[encoded data removed]",
            "text/plain": [
              "<Figure size 432x288 with 1 Axes>"
            ]
          },
          "metadata": {
            "needs_background": "light"
          }
        },
        {
          "output_type": "stream",
          "name": "stdout",
          "text": [
            "- - - - - - - - - - - - - - - - - - - - - - - - - - - - - - - - - - - - - - - - - - - - - - - - - - - - - - - - - - - - - - - - - - \n",
            "Running ITF_M...\n",
            "[1.5, 6.3, 3.6, 2.9, 4.0, 1.4, 3.8, 2.1, 10.0, 1.6, 2.4, 1.2, 10.0, 2.7, 2.3, 2.5, 2.6, 1.8, 1.8, 1.6, 1.9, 1.5, 3.0, 2.7, 2.7, 2.7, 10.0, 2.0, 1.6, 2.2, 1.7]\n",
            "[1, 1, 1, 1, 1, 1, 1, 1, -1, 1, 1, 1, -1, 1, 1, 1, 1, 1, 1, 1, 1, 1, 1, 1, 1, 1, -1, 1, 1, 1, 1]\n",
            "[1.5, 6.3, 3.6, 2.9, 4.0, 1.4, 3.8, 2.1, -10.0, 1.6, 2.4, 1.2, -10.0, 2.7, 2.3, 2.5, 2.6, 1.8, 1.8, 1.6, 1.9, 1.5, 3.0, 2.7, 2.7, 2.7, -10.0, 2.0, 1.6, 2.2, 1.7]\n",
            "Profitto totale:  38.1\n",
            "Profitto medio:  1.2290320598335387  su  31  scommesse\n",
            "Percentuale di vittoria: 90.32243496381457\n",
            "Analisi dettagliata: \n",
            "\n",
            "27  scommesse prese su  29  con quota inferiore o uguale a 1.5\n",
            "1  scommesse prese su  2  con quota tra 1.51 e 2\n",
            "0  scommesse prese su  0  con quota superiore a 2 \n",
            "\n",
            "Il GRAFICO A DISPERSIONE SOTTOSTANTE serve per valutare la correlazione tra il profitto e la quota.\n"
          ]
        },
        {
          "output_type": "display_data",
          "data": {
            "image/png": "[encoded data removed]",
            "text/plain": [
              "<Figure size 432x288 with 1 Axes>"
            ]
          },
          "metadata": {
            "needs_background": "light"
          }
        },
        {
          "output_type": "stream",
          "name": "stdout",
          "text": [
            "Il GRAFICO A DISPERSIONE SOTTOSTANTE serve per valutare la correlazione tra il profitto e la puntata.\n"
          ]
        },
        {
          "output_type": "display_data",
          "data": {
            "image/png": "[encoded data removed]",
            "text/plain": [
              "<Figure size 432x288 with 1 Axes>"
            ]
          },
          "metadata": {
            "needs_background": "light"
          }
        },
        {
          "output_type": "stream",
          "name": "stdout",
          "text": [
            "- - - - - - - - - - - - - - - - - - - - - - - - - - - - - - - - - - - - - - - - - - - - - - - - - - - - - - - - - - - - - - - - - - \n",
            "Running ITF_F...\n",
            "[16.0, 6.8, 3.2, 5.7, 6.8]\n",
            "[1, 1, 1, 1, 1]\n",
            "[16.0, 6.8, 3.2, 5.7, 6.8]\n",
            "Profitto totale:  38.5\n",
            "Profitto medio:  7.6999923000077  su  5  scommesse\n",
            "Percentuale di vittoria: 99.9990000099999\n",
            "Analisi dettagliata: \n",
            "\n",
            "1  scommesse prese su  1  con quota inferiore o uguale a 1.5\n",
            "3  scommesse prese su  3  con quota tra 1.51 e 2\n",
            "1  scommesse prese su  1  con quota superiore a 2 \n",
            "\n",
            "Il GRAFICO A DISPERSIONE SOTTOSTANTE serve per valutare la correlazione tra il profitto e la quota.\n"
          ]
        },
        {
          "output_type": "display_data",
          "data": {
            "image/png": "[encoded data removed]",
            "text/plain": [
              "<Figure size 432x288 with 1 Axes>"
            ]
          },
          "metadata": {
            "needs_background": "light"
          }
        },
        {
          "output_type": "stream",
          "name": "stdout",
          "text": [
            "Il GRAFICO A DISPERSIONE SOTTOSTANTE serve per valutare la correlazione tra il profitto e la puntata.\n"
          ]
        },
        {
          "output_type": "display_data",
          "data": {
            "image/png": "[encoded data removed]",
            "text/plain": [
              "<Figure size 432x288 with 1 Axes>"
            ]
          },
          "metadata": {
            "needs_background": "light"
          }
        },
        {
          "output_type": "stream",
          "name": "stdout",
          "text": [
            "- - - - - - - - - - - - - - - - - - - - - - - - - - - - - - - - - - - - - - - - - - - - - - - - - - - - - - - - - - - - - - - - - - \n"
          ]
        }
      ]
    },
    {
      "cell_type": "code",
      "source": [
        "def ANALISI_day( label, data_int ):\n",
        "    print(\"Running \"+label+\"...\")\n",
        "    file_atp = file_dt.loc[ ( file_dt.TIPO==label )&( file_dt.GIORNO==data_int) ]\n",
        "    #file_atp\n",
        "    qt = list( file_atp['QUOTA'] )\n",
        "    scms = list( file_atp['SCOMMESSA'] )\n",
        "\n",
        "    quote = []\n",
        "    for q in qt:\n",
        "      q = q.replace(\",\", \".\")\n",
        "      q = float( q )\n",
        "      quote.append( q )\n",
        "\n",
        "    scommesse = []\n",
        "    for s in scms:\n",
        "      s = s.replace(\",\", \".\")\n",
        "      s = s.replace(\"€\", \"\")\n",
        "      s = s.strip()\n",
        "      s = float( s )\n",
        "      scommesse.append( s )\n",
        "\n",
        "    profitto_atp = list( file_atp.PROFITTO )\n",
        "    profitto_atp_ord = []\n",
        "    segni = []\n",
        "    for idx, v in enumerate ( profitto_atp ):\n",
        "        v = v.replace(\"€\", \"\")\n",
        "        v = v.strip()\n",
        "        v = v.replace(',', '.')\n",
        "        if \"-\" in v:\n",
        "            segni.append( -1 )\n",
        "        else:\n",
        "            segni.append( 1 )\n",
        "        v = v.replace('-','')\n",
        "        v = v.strip()\n",
        "        v = float( v )\n",
        "        profitto_atp_ord.append( v )\n",
        "\n",
        "    print( profitto_atp_ord )\n",
        "    print( segni )\n",
        "\n",
        "    lista_finale_atp = []\n",
        "    for ind, val in enumerate ( profitto_atp_ord ):\n",
        "        prd = val*segni[ind]\n",
        "        lista_finale_atp.append( prd )\n",
        "    numero_scommesse = len( lista_finale_atp )\n",
        "    print( lista_finale_atp )\n",
        "    somma_atp = sum( lista_finale_atp )\n",
        "    somma_atp = round(somma_atp,2) \n",
        "    media_profitto = somma_atp/(numero_scommesse+0.000005)\n",
        "    conto_win = 0\n",
        "    for lfatp in lista_finale_atp:\n",
        "      if lfatp>0:\n",
        "        conto_win = conto_win+1\n",
        "      else:\n",
        "        conto_win = conto_win+0\n",
        "    win_percentage = (conto_win/( numero_scommesse+0.00005) )*100\n",
        "\n",
        "    win_under_1_5 = 0\n",
        "    tot_under_1_5 = 0\n",
        "\n",
        "    win_1_5_2 = 0\n",
        "    tot_1_5_2 = 0\n",
        "\n",
        "    win_over_2 = 0\n",
        "    tot_over_2 = 0\n",
        "    \n",
        "    for idx, sc in enumerate ( lista_finale_atp ):\n",
        "      if quote[idx]<=1.5:\n",
        "        tot_under_1_5 = tot_under_1_5+1\n",
        "        if sc>0:\n",
        "          win_under_1_5 = win_under_1_5+1\n",
        "      elif ( quote[idx]>1.5 )&( quote[idx]<=2 ):\n",
        "        tot_1_5_2 = tot_1_5_2+1\n",
        "        if sc>0:\n",
        "          win_1_5_2 = win_1_5_2+1\n",
        "      else:\n",
        "        tot_over_2 = tot_over_2+1\n",
        "        if sc>0:\n",
        "          win_over_2 = win_over_2+1\n",
        "\n",
        "\n",
        "\n",
        "\n",
        "\n",
        "    print(\"Profitto totale: \", str( somma_atp ) )\n",
        "    print(\"Profitto medio: \", str( media_profitto ),\" su \", str(numero_scommesse),\" scommesse\" )\n",
        "    print(\"Percentuale di vittoria:\", str( win_percentage ) )\n",
        "\n",
        "    print(\"Analisi dettagliata: \\n\")\n",
        "    print(str( win_under_1_5 ), \" scommesse prese su \", str( tot_under_1_5 ), \" con quota inferiore o uguale a 1.5\" )\n",
        "    print(str( win_1_5_2 ), \" scommesse prese su \", str( tot_1_5_2 ), \" con quota tra 1.51 e 2\" )\n",
        "    print(str( win_over_2 ), \" scommesse prese su \", str( tot_over_2 ), \" con quota superiore a 2 \\n\" )\n",
        "    \n",
        "    print(\"Il GRAFICO A DISPERSIONE SOTTOSTANTE serve per valutare la correlazione tra il profitto e la quota.\")\n",
        "    plt.scatter( quote, lista_finale_atp )\n",
        "    plt.xlabel(\"QUOTA\")\n",
        "    plt.ylabel(\"PROFITTO\")\n",
        "    plt.show()\n",
        "\n",
        "    print(\"Il GRAFICO A DISPERSIONE SOTTOSTANTE serve per valutare la correlazione tra il profitto e la puntata.\")\n",
        "    plt.scatter( scommesse, lista_finale_atp )\n",
        "    plt.xlabel(\"PUNTATA\")\n",
        "    plt.ylabel(\"PROFITTO\")\n",
        "    plt.show()\n",
        "\n",
        "\n",
        "    \n",
        "    print(\"- - - - - - - - - - - - - - - - - - - - - - - - - - - - - - - - - - - - - - - - - - - - - - - - - - - - - - - - - - - - - - - - - - \")"
      ],
      "metadata": {
        "id": "unrdFBalRgqs"
      },
      "execution_count": null,
      "outputs": []
    },
    {
      "cell_type": "code",
      "source": [
        "for tb in types_bet:\n",
        "    ANALISI_day(tb, \"9 genn\")"
      ],
      "metadata": {
        "colab": {
          "base_uri": "https://localhost:8080/",
          "height": 1000
        },
        "id": "e4CsbbAGRgyD",
        "outputId": "5c45e483-5884-43f4-81ae-9b7f4ca49bf8"
      },
      "execution_count": null,
      "outputs": [
        {
          "output_type": "stream",
          "name": "stdout",
          "text": [
            "Running BASKET_M...\n",
            "[10.0, 42.0, 15.0, 6.5, 6.5, 10.0, 10.0, 9.7, 10.0, 6.8, 8.2, 10.0, 9.0, 10.0]\n",
            "[-1, 1, -1, 1, 1, -1, -1, 1, -1, 1, 1, -1, 1, -1]\n",
            "[-10.0, 42.0, -15.0, 6.5, 6.5, -10.0, -10.0, 9.7, -10.0, 6.8, 8.2, -10.0, 9.0, -10.0]\n",
            "Profitto totale:  13.7\n",
            "Profitto medio:  0.9785710790817574  su  14  scommesse\n",
            "Percentuale di vittoria: 49.99982142920918\n",
            "Analisi dettagliata: \n",
            "\n",
            "0  scommesse prese su  1  con quota inferiore o uguale a 1.5\n",
            "6  scommesse prese su  7  con quota tra 1.51 e 2\n",
            "1  scommesse prese su  6  con quota superiore a 2 \n",
            "\n",
            "Il GRAFICO A DISPERSIONE SOTTOSTANTE serve per valutare la correlazione tra il profitto e la quota.\n"
          ]
        },
        {
          "output_type": "display_data",
          "data": {
            "image/png": "[encoded data removed]",
            "text/plain": [
              "<Figure size 432x288 with 1 Axes>"
            ]
          },
          "metadata": {
            "needs_background": "light"
          }
        },
        {
          "output_type": "stream",
          "name": "stdout",
          "text": [
            "Il GRAFICO A DISPERSIONE SOTTOSTANTE serve per valutare la correlazione tra il profitto e la puntata.\n"
          ]
        },
        {
          "output_type": "display_data",
          "data": {
            "image/png": "[encoded data removed]",
            "text/plain": [
              "<Figure size 432x288 with 1 Axes>"
            ]
          },
          "metadata": {
            "needs_background": "light"
          }
        },
        {
          "output_type": "stream",
          "name": "stdout",
          "text": [
            "- - - - - - - - - - - - - - - - - - - - - - - - - - - - - - - - - - - - - - - - - - - - - - - - - - - - - - - - - - - - - - - - - - \n",
            "Running ATP...\n",
            "[1.6, 3.6, 1.9, 11.0, 10.0, 1.2, 1.8, 1.9, 2.1, 1.5, 1.4, 1.4, 1.5, 1.9, 10.0, 2.1, 0.9, 0.9, 0.9, 10.0, 0.4, 1.8]\n",
            "[1, 1, 1, 1, -1, 1, 1, 1, 1, 1, 1, 1, 1, 1, -1, 1, 1, 1, 1, -1, 1, 1]\n",
            "[1.6, 3.6, 1.9, 11.0, -10.0, 1.2, 1.8, 1.9, 2.1, 1.5, 1.4, 1.4, 1.5, 1.9, -10.0, 2.1, 0.9, 0.9, 0.9, -10.0, 0.4, 1.8]\n",
            "Profitto totale:  9.8\n",
            "Profitto medio:  0.44545444421489905  su  22  scommesse\n",
            "Percentuale di vittoria: 86.36344008309071\n",
            "Analisi dettagliata: \n",
            "\n",
            "18  scommesse prese su  20  con quota inferiore o uguale a 1.5\n",
            "0  scommesse prese su  1  con quota tra 1.51 e 2\n",
            "1  scommesse prese su  1  con quota superiore a 2 \n",
            "\n",
            "Il GRAFICO A DISPERSIONE SOTTOSTANTE serve per valutare la correlazione tra il profitto e la quota.\n"
          ]
        },
        {
          "output_type": "display_data",
          "data": {
            "image/png": "[encoded data removed]",
            "text/plain": [
              "<Figure size 432x288 with 1 Axes>"
            ]
          },
          "metadata": {
            "needs_background": "light"
          }
        },
        {
          "output_type": "stream",
          "name": "stdout",
          "text": [
            "Il GRAFICO A DISPERSIONE SOTTOSTANTE serve per valutare la correlazione tra il profitto e la puntata.\n"
          ]
        },
        {
          "output_type": "display_data",
          "data": {
            "image/png": "[encoded data removed]",
            "text/plain": [
              "<Figure size 432x288 with 1 Axes>"
            ]
          },
          "metadata": {
            "needs_background": "light"
          }
        },
        {
          "output_type": "stream",
          "name": "stdout",
          "text": [
            "- - - - - - - - - - - - - - - - - - - - - - - - - - - - - - - - - - - - - - - - - - - - - - - - - - - - - - - - - - - - - - - - - - \n",
            "Running ITF_M...\n",
            "[1.5, 6.3, 3.6, 2.9, 4.0, 1.4, 3.8, 2.1, 10.0, 1.6, 2.4, 1.2, 10.0, 2.7, 2.3, 2.5, 2.6, 1.8, 1.8, 1.6, 1.9, 1.5, 3.0, 2.7, 2.7, 2.7, 10.0, 2.0, 1.6, 2.2, 1.7]\n",
            "[1, 1, 1, 1, 1, 1, 1, 1, -1, 1, 1, 1, -1, 1, 1, 1, 1, 1, 1, 1, 1, 1, 1, 1, 1, 1, -1, 1, 1, 1, 1]\n",
            "[1.5, 6.3, 3.6, 2.9, 4.0, 1.4, 3.8, 2.1, -10.0, 1.6, 2.4, 1.2, -10.0, 2.7, 2.3, 2.5, 2.6, 1.8, 1.8, 1.6, 1.9, 1.5, 3.0, 2.7, 2.7, 2.7, -10.0, 2.0, 1.6, 2.2, 1.7]\n",
            "Profitto totale:  38.1\n",
            "Profitto medio:  1.2290320598335387  su  31  scommesse\n",
            "Percentuale di vittoria: 90.32243496381457\n",
            "Analisi dettagliata: \n",
            "\n",
            "27  scommesse prese su  29  con quota inferiore o uguale a 1.5\n",
            "1  scommesse prese su  2  con quota tra 1.51 e 2\n",
            "0  scommesse prese su  0  con quota superiore a 2 \n",
            "\n",
            "Il GRAFICO A DISPERSIONE SOTTOSTANTE serve per valutare la correlazione tra il profitto e la quota.\n"
          ]
        },
        {
          "output_type": "display_data",
          "data": {
            "image/png": "[encoded data removed]",
            "text/plain": [
              "<Figure size 432x288 with 1 Axes>"
            ]
          },
          "metadata": {
            "needs_background": "light"
          }
        },
        {
          "output_type": "stream",
          "name": "stdout",
          "text": [
            "Il GRAFICO A DISPERSIONE SOTTOSTANTE serve per valutare la correlazione tra il profitto e la puntata.\n"
          ]
        },
        {
          "output_type": "display_data",
          "data": {
            "image/png": "[encoded data removed]",
            "text/plain": [
              "<Figure size 432x288 with 1 Axes>"
            ]
          },
          "metadata": {
            "needs_background": "light"
          }
        },
        {
          "output_type": "stream",
          "name": "stdout",
          "text": [
            "- - - - - - - - - - - - - - - - - - - - - - - - - - - - - - - - - - - - - - - - - - - - - - - - - - - - - - - - - - - - - - - - - - \n",
            "Running ITF_F...\n",
            "[16.0, 6.8, 3.2, 5.7, 6.8]\n",
            "[1, 1, 1, 1, 1]\n",
            "[16.0, 6.8, 3.2, 5.7, 6.8]\n",
            "Profitto totale:  38.5\n",
            "Profitto medio:  7.6999923000077  su  5  scommesse\n",
            "Percentuale di vittoria: 99.9990000099999\n",
            "Analisi dettagliata: \n",
            "\n",
            "1  scommesse prese su  1  con quota inferiore o uguale a 1.5\n",
            "3  scommesse prese su  3  con quota tra 1.51 e 2\n",
            "1  scommesse prese su  1  con quota superiore a 2 \n",
            "\n",
            "Il GRAFICO A DISPERSIONE SOTTOSTANTE serve per valutare la correlazione tra il profitto e la quota.\n"
          ]
        },
        {
          "output_type": "display_data",
          "data": {
            "image/png": "[encoded data removed]",
            "text/plain": [
              "<Figure size 432x288 with 1 Axes>"
            ]
          },
          "metadata": {
            "needs_background": "light"
          }
        },
        {
          "output_type": "stream",
          "name": "stdout",
          "text": [
            "Il GRAFICO A DISPERSIONE SOTTOSTANTE serve per valutare la correlazione tra il profitto e la puntata.\n"
          ]
        },
        {
          "output_type": "display_data",
          "data": {
            "image/png": "[encoded data removed]",
            "text/plain": [
              "<Figure size 432x288 with 1 Axes>"
            ]
          },
          "metadata": {
            "needs_background": "light"
          }
        },
        {
          "output_type": "stream",
          "name": "stdout",
          "text": [
            "- - - - - - - - - - - - - - - - - - - - - - - - - - - - - - - - - - - - - - - - - - - - - - - - - - - - - - - - - - - - - - - - - - \n"
          ]
        }
      ]
    },
    {
      "cell_type": "code",
      "source": [
        ""
      ],
      "metadata": {
        "id": "FND17ZwHRg0R"
      },
      "execution_count": null,
      "outputs": []
    }
  ]
}